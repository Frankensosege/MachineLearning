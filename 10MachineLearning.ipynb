{
  "nbformat": 4,
  "nbformat_minor": 0,
  "metadata": {
    "colab": {
      "provenance": [],
      "authorship_tag": "ABX9TyMg3qHm+ADeSa6MKeGi82s4",
      "include_colab_link": true
    },
    "kernelspec": {
      "name": "python3",
      "display_name": "Python 3"
    },
    "language_info": {
      "name": "python"
    }
  },
  "cells": [
    {
      "cell_type": "markdown",
      "metadata": {
        "id": "view-in-github",
        "colab_type": "text"
      },
      "source": [
        "<a href=\"https://colab.research.google.com/github/Frankensosege/MachineLearning/blob/main/10MachineLearning.ipynb\" target=\"_parent\"><img src=\"https://colab.research.google.com/assets/colab-badge.svg\" alt=\"Open In Colab\"/></a>"
      ]
    },
    {
      "cell_type": "markdown",
      "source": [
        "\n",
        "\n",
        "pima indian 당뇨병 데이터 가져와 평준화하기\n",
        "\n"
      ],
      "metadata": {
        "id": "5F1nQRHd12UC"
      }
    },
    {
      "cell_type": "code",
      "source": [
        "!git clone http://github.com/taehojo/data.git"
      ],
      "metadata": {
        "colab": {
          "base_uri": "https://localhost:8080/"
        },
        "id": "mMaRpkf9vqfF",
        "outputId": "7cb068f0-9afd-4eb6-a136-dfd6ccc0f8b2"
      },
      "execution_count": 33,
      "outputs": [
        {
          "output_type": "stream",
          "name": "stdout",
          "text": [
            "fatal: destination path 'data' already exists and is not an empty directory.\n"
          ]
        }
      ]
    },
    {
      "cell_type": "code",
      "execution_count": 34,
      "metadata": {
        "id": "DcFYpSD5k9F0"
      },
      "outputs": [],
      "source": [
        "from sklearn.model_selection import train_test_split, cross_val_score, StratifiedKFold\n",
        "from matplotlib import pyplot\n",
        "from sklearn.preprocessing import StandardScaler\n",
        "\n",
        "import pandas as pd\n",
        "import matplotlib.pyplot as plt\n",
        "\n",
        "df = pd.read_csv('./data/pima-indians-diabetes3.csv')"
      ]
    },
    {
      "cell_type": "code",
      "source": [
        "df.info()"
      ],
      "metadata": {
        "colab": {
          "base_uri": "https://localhost:8080/"
        },
        "id": "pQE3_ZaQw1p6",
        "outputId": "58c9893a-37b6-4adc-99da-31f08e47a299"
      },
      "execution_count": 35,
      "outputs": [
        {
          "output_type": "stream",
          "name": "stdout",
          "text": [
            "<class 'pandas.core.frame.DataFrame'>\n",
            "RangeIndex: 768 entries, 0 to 767\n",
            "Data columns (total 9 columns):\n",
            " #   Column     Non-Null Count  Dtype  \n",
            "---  ------     --------------  -----  \n",
            " 0   pregnant   768 non-null    int64  \n",
            " 1   plasma     768 non-null    int64  \n",
            " 2   pressure   768 non-null    int64  \n",
            " 3   thickness  768 non-null    int64  \n",
            " 4   insulin    768 non-null    int64  \n",
            " 5   bmi        768 non-null    float64\n",
            " 6   pedigree   768 non-null    float64\n",
            " 7   age        768 non-null    int64  \n",
            " 8   diabetes   768 non-null    int64  \n",
            "dtypes: float64(2), int64(7)\n",
            "memory usage: 54.1 KB\n"
          ]
        }
      ]
    },
    {
      "cell_type": "code",
      "source": [
        "X = df.iloc[:, 0:8]\n",
        "X.describe()"
      ],
      "metadata": {
        "colab": {
          "base_uri": "https://localhost:8080/",
          "height": 300
        },
        "id": "EjlEL6g4xKBz",
        "outputId": "cb320ee7-57a5-46e1-c86d-25100424d453"
      },
      "execution_count": 36,
      "outputs": [
        {
          "output_type": "execute_result",
          "data": {
            "text/plain": [
              "         pregnant      plasma    pressure   thickness     insulin         bmi  \\\n",
              "count  768.000000  768.000000  768.000000  768.000000  768.000000  768.000000   \n",
              "mean     3.845052  120.894531   69.105469   20.536458   79.799479   31.992578   \n",
              "std      3.369578   31.972618   19.355807   15.952218  115.244002    7.884160   \n",
              "min      0.000000    0.000000    0.000000    0.000000    0.000000    0.000000   \n",
              "25%      1.000000   99.000000   62.000000    0.000000    0.000000   27.300000   \n",
              "50%      3.000000  117.000000   72.000000   23.000000   30.500000   32.000000   \n",
              "75%      6.000000  140.250000   80.000000   32.000000  127.250000   36.600000   \n",
              "max     17.000000  199.000000  122.000000   99.000000  846.000000   67.100000   \n",
              "\n",
              "         pedigree         age  \n",
              "count  768.000000  768.000000  \n",
              "mean     0.471876   33.240885  \n",
              "std      0.331329   11.760232  \n",
              "min      0.078000   21.000000  \n",
              "25%      0.243750   24.000000  \n",
              "50%      0.372500   29.000000  \n",
              "75%      0.626250   41.000000  \n",
              "max      2.420000   81.000000  "
            ],
            "text/html": [
              "\n",
              "  <div id=\"df-b0b4e942-8bba-4e52-a98e-4a5cfdc75975\">\n",
              "    <div class=\"colab-df-container\">\n",
              "      <div>\n",
              "<style scoped>\n",
              "    .dataframe tbody tr th:only-of-type {\n",
              "        vertical-align: middle;\n",
              "    }\n",
              "\n",
              "    .dataframe tbody tr th {\n",
              "        vertical-align: top;\n",
              "    }\n",
              "\n",
              "    .dataframe thead th {\n",
              "        text-align: right;\n",
              "    }\n",
              "</style>\n",
              "<table border=\"1\" class=\"dataframe\">\n",
              "  <thead>\n",
              "    <tr style=\"text-align: right;\">\n",
              "      <th></th>\n",
              "      <th>pregnant</th>\n",
              "      <th>plasma</th>\n",
              "      <th>pressure</th>\n",
              "      <th>thickness</th>\n",
              "      <th>insulin</th>\n",
              "      <th>bmi</th>\n",
              "      <th>pedigree</th>\n",
              "      <th>age</th>\n",
              "    </tr>\n",
              "  </thead>\n",
              "  <tbody>\n",
              "    <tr>\n",
              "      <th>count</th>\n",
              "      <td>768.000000</td>\n",
              "      <td>768.000000</td>\n",
              "      <td>768.000000</td>\n",
              "      <td>768.000000</td>\n",
              "      <td>768.000000</td>\n",
              "      <td>768.000000</td>\n",
              "      <td>768.000000</td>\n",
              "      <td>768.000000</td>\n",
              "    </tr>\n",
              "    <tr>\n",
              "      <th>mean</th>\n",
              "      <td>3.845052</td>\n",
              "      <td>120.894531</td>\n",
              "      <td>69.105469</td>\n",
              "      <td>20.536458</td>\n",
              "      <td>79.799479</td>\n",
              "      <td>31.992578</td>\n",
              "      <td>0.471876</td>\n",
              "      <td>33.240885</td>\n",
              "    </tr>\n",
              "    <tr>\n",
              "      <th>std</th>\n",
              "      <td>3.369578</td>\n",
              "      <td>31.972618</td>\n",
              "      <td>19.355807</td>\n",
              "      <td>15.952218</td>\n",
              "      <td>115.244002</td>\n",
              "      <td>7.884160</td>\n",
              "      <td>0.331329</td>\n",
              "      <td>11.760232</td>\n",
              "    </tr>\n",
              "    <tr>\n",
              "      <th>min</th>\n",
              "      <td>0.000000</td>\n",
              "      <td>0.000000</td>\n",
              "      <td>0.000000</td>\n",
              "      <td>0.000000</td>\n",
              "      <td>0.000000</td>\n",
              "      <td>0.000000</td>\n",
              "      <td>0.078000</td>\n",
              "      <td>21.000000</td>\n",
              "    </tr>\n",
              "    <tr>\n",
              "      <th>25%</th>\n",
              "      <td>1.000000</td>\n",
              "      <td>99.000000</td>\n",
              "      <td>62.000000</td>\n",
              "      <td>0.000000</td>\n",
              "      <td>0.000000</td>\n",
              "      <td>27.300000</td>\n",
              "      <td>0.243750</td>\n",
              "      <td>24.000000</td>\n",
              "    </tr>\n",
              "    <tr>\n",
              "      <th>50%</th>\n",
              "      <td>3.000000</td>\n",
              "      <td>117.000000</td>\n",
              "      <td>72.000000</td>\n",
              "      <td>23.000000</td>\n",
              "      <td>30.500000</td>\n",
              "      <td>32.000000</td>\n",
              "      <td>0.372500</td>\n",
              "      <td>29.000000</td>\n",
              "    </tr>\n",
              "    <tr>\n",
              "      <th>75%</th>\n",
              "      <td>6.000000</td>\n",
              "      <td>140.250000</td>\n",
              "      <td>80.000000</td>\n",
              "      <td>32.000000</td>\n",
              "      <td>127.250000</td>\n",
              "      <td>36.600000</td>\n",
              "      <td>0.626250</td>\n",
              "      <td>41.000000</td>\n",
              "    </tr>\n",
              "    <tr>\n",
              "      <th>max</th>\n",
              "      <td>17.000000</td>\n",
              "      <td>199.000000</td>\n",
              "      <td>122.000000</td>\n",
              "      <td>99.000000</td>\n",
              "      <td>846.000000</td>\n",
              "      <td>67.100000</td>\n",
              "      <td>2.420000</td>\n",
              "      <td>81.000000</td>\n",
              "    </tr>\n",
              "  </tbody>\n",
              "</table>\n",
              "</div>\n",
              "      <button class=\"colab-df-convert\" onclick=\"convertToInteractive('df-b0b4e942-8bba-4e52-a98e-4a5cfdc75975')\"\n",
              "              title=\"Convert this dataframe to an interactive table.\"\n",
              "              style=\"display:none;\">\n",
              "        \n",
              "  <svg xmlns=\"http://www.w3.org/2000/svg\" height=\"24px\"viewBox=\"0 0 24 24\"\n",
              "       width=\"24px\">\n",
              "    <path d=\"M0 0h24v24H0V0z\" fill=\"none\"/>\n",
              "    <path d=\"M18.56 5.44l.94 2.06.94-2.06 2.06-.94-2.06-.94-.94-2.06-.94 2.06-2.06.94zm-11 1L8.5 8.5l.94-2.06 2.06-.94-2.06-.94L8.5 2.5l-.94 2.06-2.06.94zm10 10l.94 2.06.94-2.06 2.06-.94-2.06-.94-.94-2.06-.94 2.06-2.06.94z\"/><path d=\"M17.41 7.96l-1.37-1.37c-.4-.4-.92-.59-1.43-.59-.52 0-1.04.2-1.43.59L10.3 9.45l-7.72 7.72c-.78.78-.78 2.05 0 2.83L4 21.41c.39.39.9.59 1.41.59.51 0 1.02-.2 1.41-.59l7.78-7.78 2.81-2.81c.8-.78.8-2.07 0-2.86zM5.41 20L4 18.59l7.72-7.72 1.47 1.35L5.41 20z\"/>\n",
              "  </svg>\n",
              "      </button>\n",
              "      \n",
              "  <style>\n",
              "    .colab-df-container {\n",
              "      display:flex;\n",
              "      flex-wrap:wrap;\n",
              "      gap: 12px;\n",
              "    }\n",
              "\n",
              "    .colab-df-convert {\n",
              "      background-color: #E8F0FE;\n",
              "      border: none;\n",
              "      border-radius: 50%;\n",
              "      cursor: pointer;\n",
              "      display: none;\n",
              "      fill: #1967D2;\n",
              "      height: 32px;\n",
              "      padding: 0 0 0 0;\n",
              "      width: 32px;\n",
              "    }\n",
              "\n",
              "    .colab-df-convert:hover {\n",
              "      background-color: #E2EBFA;\n",
              "      box-shadow: 0px 1px 2px rgba(60, 64, 67, 0.3), 0px 1px 3px 1px rgba(60, 64, 67, 0.15);\n",
              "      fill: #174EA6;\n",
              "    }\n",
              "\n",
              "    [theme=dark] .colab-df-convert {\n",
              "      background-color: #3B4455;\n",
              "      fill: #D2E3FC;\n",
              "    }\n",
              "\n",
              "    [theme=dark] .colab-df-convert:hover {\n",
              "      background-color: #434B5C;\n",
              "      box-shadow: 0px 1px 3px 1px rgba(0, 0, 0, 0.15);\n",
              "      filter: drop-shadow(0px 1px 2px rgba(0, 0, 0, 0.3));\n",
              "      fill: #FFFFFF;\n",
              "    }\n",
              "  </style>\n",
              "\n",
              "      <script>\n",
              "        const buttonEl =\n",
              "          document.querySelector('#df-b0b4e942-8bba-4e52-a98e-4a5cfdc75975 button.colab-df-convert');\n",
              "        buttonEl.style.display =\n",
              "          google.colab.kernel.accessAllowed ? 'block' : 'none';\n",
              "\n",
              "        async function convertToInteractive(key) {\n",
              "          const element = document.querySelector('#df-b0b4e942-8bba-4e52-a98e-4a5cfdc75975');\n",
              "          const dataTable =\n",
              "            await google.colab.kernel.invokeFunction('convertToInteractive',\n",
              "                                                     [key], {});\n",
              "          if (!dataTable) return;\n",
              "\n",
              "          const docLinkHtml = 'Like what you see? Visit the ' +\n",
              "            '<a target=\"_blank\" href=https://colab.research.google.com/notebooks/data_table.ipynb>data table notebook</a>'\n",
              "            + ' to learn more about interactive tables.';\n",
              "          element.innerHTML = '';\n",
              "          dataTable['output_type'] = 'display_data';\n",
              "          await google.colab.output.renderOutput(dataTable, element);\n",
              "          const docLink = document.createElement('div');\n",
              "          docLink.innerHTML = docLinkHtml;\n",
              "          element.appendChild(docLink);\n",
              "        }\n",
              "      </script>\n",
              "    </div>\n",
              "  </div>\n",
              "  "
            ]
          },
          "metadata": {},
          "execution_count": 36
        }
      ]
    },
    {
      "cell_type": "code",
      "source": [
        "y = df.iloc[:, 8]"
      ],
      "metadata": {
        "id": "wO_-p7BlxmB0"
      },
      "execution_count": 37,
      "outputs": []
    },
    {
      "cell_type": "code",
      "source": [
        "ss = StandardScaler()\n",
        "scaled_X = pd.DataFrame(ss.fit_transform(X), columns=X.columns)\n",
        "fig, ax = plt.subplots(1, 2, figsize=(12, 4))\n",
        "X.plot(kind='kde', title='Raw data', ax=ax[0])\n",
        "scaled_X.plot(kind='kde', title='StandardScaler', ax=ax[1])\n",
        "plt.show()"
      ],
      "metadata": {
        "colab": {
          "base_uri": "https://localhost:8080/",
          "height": 281
        },
        "id": "ckACew1ux6I0",
        "outputId": "6476cd15-685e-4962-a2bc-86e5e6f93a77"
      },
      "execution_count": 38,
      "outputs": [
        {
          "output_type": "display_data",
          "data": {
            "text/plain": [
              "<Figure size 864x288 with 2 Axes>"
            ],
            "image/png": "[encoded data removed]"
          },
          "metadata": {
            "needs_background": "light"
          }
        }
      ]
    },
    {
      "cell_type": "code",
      "source": [
        "x_train, x_test, y_train, y_test = train_test_split(scaled_X, y, test_size=0.25, random_state=0)"
      ],
      "metadata": {
        "id": "357PLq6jy-Er"
      },
      "execution_count": 39,
      "outputs": []
    },
    {
      "cell_type": "code",
      "source": [
        "print(x_train.shape, x_test.shape, y_train.shape, y_test.shape)"
      ],
      "metadata": {
        "colab": {
          "base_uri": "https://localhost:8080/"
        },
        "id": "k7M1u9cpzrMh",
        "outputId": "15f755e7-3989-4b6e-e109-673cd784988e"
      },
      "execution_count": 40,
      "outputs": [
        {
          "output_type": "stream",
          "name": "stdout",
          "text": [
            "(576, 8) (192, 8) (576,) (192,)\n"
          ]
        }
      ]
    },
    {
      "cell_type": "code",
      "source": [
        "from sklearn.linear_model import LinearRegression\n",
        "\n",
        "lr = LinearRegression()\n",
        "lr.fit(x_train, y_train)\n",
        "print(lr.score(x_train, y_train))\n",
        "print(lr.score(x_test, y_test))\n",
        "\n",
        "y_pred = lr.predict(x_test)\n",
        "\n",
        "skf = StratifiedKFold(n_splits=10, shuffle=True)\n",
        "accuracies = cross_val_score(estimator=lr, X=x_train, y=y_train, cv=skf)\n",
        "\n",
        "print(\"Accuracy: {:.2f} %\".format(accuracies.mean()*100))\n",
        "print(\"Standard Deviation: {:.2f} %\".format(accuracies.std()*100))"
      ],
      "metadata": {
        "colab": {
          "base_uri": "https://localhost:8080/"
        },
        "id": "67b1Qdgnzz4d",
        "outputId": "9acd76b0-75e4-4db9-c318-bdaeec76c5dd"
      },
      "execution_count": 41,
      "outputs": [
        {
          "output_type": "stream",
          "name": "stdout",
          "text": [
            "0.2925622759955967\n",
            "0.32396837377325394\n",
            "Accuracy: 26.19 %\n",
            "Standard Deviation: 13.30 %\n"
          ]
        }
      ]
    },
    {
      "cell_type": "markdown",
      "source": [
        "결정트리 분류"
      ],
      "metadata": {
        "id": "mWhxbvC02ehM"
      }
    },
    {
      "cell_type": "code",
      "source": [
        "from sklearn.tree import DecisionTreeClassifier\n",
        "\n",
        "dt = DecisionTreeClassifier()\n",
        "dt.fit(x_train, y_train)\n",
        "\n",
        "y_pred = dt.predict(x_test)\n",
        "\n",
        "skf = StratifiedKFold(n_splits=10, shuffle=True)\n",
        "accuracies = cross_val_score(estimator=dt, X=x_train, y=y_train, cv=skf)\n",
        "\n",
        "print(\"Accuracy: {:.2f} %\".format(accuracies.mean()*100))\n",
        "print(\"Standard Deviation: {:.2f} %\".format(accuracies.std()*100))"
      ],
      "metadata": {
        "colab": {
          "base_uri": "https://localhost:8080/"
        },
        "id": "xrrTpSj11YOR",
        "outputId": "723e13f1-0621-4f1f-ec06-284c1fa7ba8b"
      },
      "execution_count": 42,
      "outputs": [
        {
          "output_type": "stream",
          "name": "stdout",
          "text": [
            "Accuracy: 68.76 %\n",
            "Standard Deviation: 5.43 %\n"
          ]
        }
      ]
    },
    {
      "cell_type": "markdown",
      "source": [
        "랜덤포레스트 분류"
      ],
      "metadata": {
        "id": "IiG6_1JV6iG7"
      }
    },
    {
      "cell_type": "code",
      "source": [
        "from sklearn.ensemble import RandomForestClassifier\n",
        "\n",
        "rf = RandomForestClassifier(n_estimators=50)\n",
        "rf.fit(x_train, y_train)\n",
        "\n",
        "y_pred = rf.predict(x_test)\n",
        "\n",
        "skf = StratifiedKFold(n_splits=10, shuffle=True)\n",
        "accuracies = cross_val_score(estimator=rf, X=x_train, y=y_train, cv=skf)\n",
        "\n",
        "print(\"Accuracy: {:.2f} %\".format(accuracies.mean()*100))\n",
        "print(\"Standard Deviation: {:.2f} %\".format(accuracies.std()*100))"
      ],
      "metadata": {
        "colab": {
          "base_uri": "https://localhost:8080/"
        },
        "id": "keb6bQIh4oNV",
        "outputId": "587e6a5e-fe2d-4548-ae43-f66d0c480fbd"
      },
      "execution_count": 43,
      "outputs": [
        {
          "output_type": "stream",
          "name": "stdout",
          "text": [
            "Accuracy: 73.11 %\n",
            "Standard Deviation: 5.82 %\n"
          ]
        }
      ]
    },
    {
      "cell_type": "markdown",
      "source": [
        "가우시안 나이브 베이즈</p>\n",
        "https://scikit-learn.org/stable/modules/generated/sklearn.naive_bayes.GaussianNB.html"
      ],
      "metadata": {
        "id": "zRc5gmIr8bhD"
      }
    },
    {
      "cell_type": "code",
      "source": [
        "from sklearn.naive_bayes import GaussianNB\n",
        "\n",
        "gnb = GaussianNB()\n",
        "gnb.fit(x_train, y_train)\n",
        "\n",
        "y_pred = gnb.predict(x_test)\n",
        "\n",
        "skf = StratifiedKFold(n_splits=10, shuffle=True)\n",
        "accuracies = cross_val_score(estimator=gnb, X=x_train, y=y_train, cv=skf)\n",
        "\n",
        "print(\"Accuracy: {:.2f} %\".format(accuracies.mean()*100))\n",
        "print(\"Standard Deviation: {:.2f} %\".format(accuracies.std()*100))"
      ],
      "metadata": {
        "colab": {
          "base_uri": "https://localhost:8080/"
        },
        "id": "C2iBtor27Api",
        "outputId": "84c76cfe-06c1-4b33-a02f-6aeee65b28be"
      },
      "execution_count": 44,
      "outputs": [
        {
          "output_type": "stream",
          "name": "stdout",
          "text": [
            "Accuracy: 74.97 %\n",
            "Standard Deviation: 5.73 %\n"
          ]
        }
      ]
    },
    {
      "cell_type": "markdown",
      "source": [
        "K-최근접 이웃 분류"
      ],
      "metadata": {
        "id": "3JNAUZX5Cz6z"
      }
    },
    {
      "cell_type": "code",
      "source": [
        "from sklearn.neighbors import KNeighborsClassifier\n",
        "\n",
        "kn = KNeighborsClassifier()\n",
        "kn.fit(x_train, y_train)\n",
        "\n",
        "y_pred = kn.predict(x_test)\n",
        "\n",
        "skf = StratifiedKFold(n_splits=10, shuffle=True)\n",
        "accuracies = cross_val_score(estimator=kn, X=x_train, y=y_train, cv=skf)\n",
        "\n",
        "print(\"Accuracy: {:.2f} %\".format(accuracies.mean()*100))\n",
        "print(\"Standard Deviation: {:.2f} %\".format(accuracies.std()*100))"
      ],
      "metadata": {
        "colab": {
          "base_uri": "https://localhost:8080/"
        },
        "id": "xFQlAMX7Ad6H",
        "outputId": "d6ae6fae-5688-4f6d-9695-632076ff1f2a"
      },
      "execution_count": 45,
      "outputs": [
        {
          "output_type": "stream",
          "name": "stdout",
          "text": [
            "Accuracy: 73.26 %\n",
            "Standard Deviation: 5.68 %\n"
          ]
        }
      ]
    },
    {
      "cell_type": "markdown",
      "source": [
        "에이다 부스트</p>\n",
        "https://scikit-learn.org/stable/modules/generated/sklearn.ensemble.AdaBoostClassifier.html"
      ],
      "metadata": {
        "id": "L0lJelfzEPjc"
      }
    },
    {
      "cell_type": "code",
      "source": [
        "from sklearn.ensemble import AdaBoostClassifier\n",
        "\n",
        "ab = AdaBoostClassifier()\n",
        "ab.fit(x_train, y_train)\n",
        "\n",
        "y_pred = ab.predict(x_test)\n",
        "\n",
        "skf = StratifiedKFold(n_splits=10, shuffle=True)\n",
        "accuracies = cross_val_score(estimator=ab, X=x_train, y=y_train, cv=skf)\n",
        "\n",
        "print(\"Accuracy: {:.2f} %\".format(accuracies.mean()*100))\n",
        "print(\"Standard Deviation: {:.2f} %\".format(accuracies.std()*100))"
      ],
      "metadata": {
        "colab": {
          "base_uri": "https://localhost:8080/"
        },
        "id": "bF3o6Bl0DEsj",
        "outputId": "c03395a8-3fa9-4784-ab0a-0e5606950f39"
      },
      "execution_count": 46,
      "outputs": [
        {
          "output_type": "stream",
          "name": "stdout",
          "text": [
            "Accuracy: 71.55 %\n",
            "Standard Deviation: 6.04 %\n"
          ]
        }
      ]
    },
    {
      "cell_type": "markdown",
      "source": [
        "이차판별분석</p>\n",
        "https://scikit-learn.org/stable/modules/generated/sklearn.discriminant_analysis.QuadraticDiscriminantAnalysis.html"
      ],
      "metadata": {
        "id": "X_UO0DfoJ_P1"
      }
    },
    {
      "cell_type": "code",
      "source": [
        "from sklearn.discriminant_analysis import QuadraticDiscriminantAnalysis\n",
        "\n",
        "qda = QuadraticDiscriminantAnalysis()\n",
        "qda.fit(x_train, y_train)\n",
        "\n",
        "y_pred = qda.predict(x_test)\n",
        "\n",
        "skf = StratifiedKFold(n_splits=10, shuffle=True)\n",
        "accuracies = cross_val_score(estimator=qda, X=x_train, y=y_train, cv=skf)\n",
        "\n",
        "print(\"Accuracy: {:.2f} %\".format(accuracies.mean()*100))\n",
        "print(\"Standard Deviation: {:.2f} %\".format(accuracies.std()*100))"
      ],
      "metadata": {
        "colab": {
          "base_uri": "https://localhost:8080/"
        },
        "id": "Fp4WU5myGJbv",
        "outputId": "bd26743b-650e-406a-c06f-29a4de3b1f2e"
      },
      "execution_count": 47,
      "outputs": [
        {
          "output_type": "stream",
          "name": "stdout",
          "text": [
            "Accuracy: 73.79 %\n",
            "Standard Deviation: 5.53 %\n"
          ]
        }
      ]
    },
    {
      "cell_type": "markdown",
      "source": [
        "서포트 벡터 머신</p>\n",
        "https://scikit-learn.org/stable/modules/generated/sklearn.svm.SVC.html"
      ],
      "metadata": {
        "id": "zgM8gqLFLdye"
      }
    },
    {
      "cell_type": "code",
      "source": [
        "from sklearn.svm import SVC\n",
        "\n",
        "svc = SVC(kernel='linear')\n",
        "svc.fit(x_train, y_train)\n",
        "\n",
        "y_pred = svc.predict(x_test)\n",
        "\n",
        "skf = StratifiedKFold(n_splits=10, shuffle=True)\n",
        "accuracies = cross_val_score(estimator=svc, X=x_train, y=y_train, cv=skf)\n",
        "\n",
        "print(\"Accuracy: {:.2f} %\".format(accuracies.mean()*100))\n",
        "print(\"Standard Deviation: {:.2f} %\".format(accuracies.std()*100))"
      ],
      "metadata": {
        "colab": {
          "base_uri": "https://localhost:8080/"
        },
        "id": "Y0mWTnBQQSVN",
        "outputId": "cfa1d689-54b3-443e-d9c0-2149b0c3d871"
      },
      "execution_count": 48,
      "outputs": [
        {
          "output_type": "stream",
          "name": "stdout",
          "text": [
            "Accuracy: 76.23 %\n",
            "Standard Deviation: 4.44 %\n"
          ]
        }
      ]
    },
    {
      "cell_type": "markdown",
      "source": [
        "서포트 벡터 머신(RBF)"
      ],
      "metadata": {
        "id": "cmL-eKr8Qn-T"
      }
    },
    {
      "cell_type": "code",
      "source": [
        "from sklearn.svm import SVC\n",
        "\n",
        "\n",
        "svc = SVC(kernel='rbf')\n",
        "svc.fit(x_train, y_train)\n",
        "\n",
        "y_pred = svc.predict(x_test)\n",
        "\n",
        "skf = StratifiedKFold(n_splits=10, shuffle=True)\n",
        "accuracies = cross_val_score(estimator=svc, X=x_train, y=y_train, cv=skf)\n",
        "\n",
        "print(\"Accuracy: {:.2f} %\".format(accuracies.mean()*100))\n",
        "print(\"Standard Deviation: {:.2f} %\".format(accuracies.std()*100))"
      ],
      "metadata": {
        "colab": {
          "base_uri": "https://localhost:8080/"
        },
        "id": "u8U3JXQZQgcf",
        "outputId": "7127aef5-0000-4feb-c552-9d9f718e711f"
      },
      "execution_count": 49,
      "outputs": [
        {
          "output_type": "stream",
          "name": "stdout",
          "text": [
            "Accuracy: 75.00 %\n",
            "Standard Deviation: 3.81 %\n"
          ]
        }
      ]
    },
    {
      "cell_type": "markdown",
      "source": [
        "보팅</p>\n",
        "https://scikit-learn.org/stable/modules/generated/sklearn.ensemble.VotingClassifier.html"
      ],
      "metadata": {
        "id": "2JeICzmdpy9V"
      }
    },
    {
      "cell_type": "code",
      "source": [
        "from sklearn.ensemble import VotingClassifier\n",
        "\n",
        "cf1= AdaBoostClassifier()\n",
        "cf2 = RandomForestClassifier()\n",
        "cf3 = SVC(kernel='linear')\n",
        "vc = VotingClassifier(estimators=[('lr', cf1), ('rf', cf2), ('gnb', cf3)])\n",
        "vc.fit(x_train, y_train)\n",
        "\n",
        "y_pred = vc.predict(x_test)\n",
        "\n",
        "skf = StratifiedKFold(n_splits=10, shuffle=True)\n",
        "accuracies = cross_val_score(estimator=vc, X=x_train, y=y_train, cv=skf)\n",
        "\n",
        "print(\"Accuracy: {:.2f} %\".format(accuracies.mean()*100))\n",
        "print(\"Standard Deviation: {:.2f} %\".format(accuracies.std()*100))"
      ],
      "metadata": {
        "colab": {
          "base_uri": "https://localhost:8080/"
        },
        "id": "W2FNFqTXQlcV",
        "outputId": "2e6d8a89-65c4-4907-c93d-828f30c6c95a"
      },
      "execution_count": 54,
      "outputs": [
        {
          "output_type": "stream",
          "name": "stdout",
          "text": [
            "Accuracy: 76.22 %\n",
            "Standard Deviation: 4.86 %\n"
          ]
        }
      ]
    },
    {
      "cell_type": "markdown",
      "source": [
        "배깅</p>\n",
        "https://scikit-learn.org/stable/modules/generated/sklearn.ensemble.BaggingClassifier.html"
      ],
      "metadata": {
        "id": "oALU9Y4bsbZW"
      }
    },
    {
      "cell_type": "code",
      "source": [
        "from sklearn.ensemble import BaggingClassifier\n",
        "\n",
        "\n",
        "svc = SVC(kernel='rbf')\n",
        "bc = BaggingClassifier(estimator=svc, n_estimators=10)\n",
        "bc.fit(x_train, y_train)\n",
        "\n",
        "y_pred = bc.predict(x_test)\n",
        "\n",
        "skf = StratifiedKFold(n_splits=10, shuffle=True)\n",
        "accuracies = cross_val_score(estimator=bc, X=x_train, y=y_train, cv=skf)\n",
        "\n",
        "print(\"Accuracy: {:.2f} %\".format(accuracies.mean()*100))\n",
        "print(\"Standard Deviation: {:.2f} %\".format(accuracies.std()*100))"
      ],
      "metadata": {
        "colab": {
          "base_uri": "https://localhost:8080/"
        },
        "id": "Alsgzlh2qnS0",
        "outputId": "3b921f91-8503-4079-d91f-e876192f74d5"
      },
      "execution_count": 53,
      "outputs": [
        {
          "output_type": "stream",
          "name": "stdout",
          "text": [
            "Accuracy: 75.89 %\n",
            "Standard Deviation: 4.89 %\n"
          ]
        }
      ]
    },
    {
      "cell_type": "markdown",
      "source": [
        "여러 알고리즘 성능 비교"
      ],
      "metadata": {
        "id": "8hfNn98swDzM"
      }
    },
    {
      "cell_type": "code",
      "source": [
        "classifiers = [DecisionTreeClassifier(),\n",
        "               RandomForestClassifier(),\n",
        "               GaussianNB(),\n",
        "               KNeighborsClassifier(),\n",
        "               SVC(kernel='linear'),\n",
        "               SVC(kernel='rbf'),\n",
        "               AdaBoostClassifier(),\n",
        "               QuadraticDiscriminantAnalysis(),\n",
        "               VotingClassifier(estimators=[('1', AdaBoostClassifier()),\n",
        "                                            ('2', RandomForestClassifier()),\n",
        "                                            ('3', SVC(kernel='linear'))]),\n",
        "               BaggingClassifier(estimator=cf3, n_estimators=10, random_state=0)]\n",
        "classifier_names = ['D_tree',\n",
        "                    'RF',\n",
        "                    'GNB',\n",
        "                    'KNN',\n",
        "                    'Ada',\n",
        "                    'QDA',\n",
        "                    'SVM_l',\n",
        "                    'SVM_k',\n",
        "                    'Bagging']\n",
        "modelaccuraies=[]\n",
        "modelmeans=[]\n",
        "modelnames=[]\n",
        "\n",
        "classifier_data = zip(classifier_names, classifiers)\n",
        "for classifier_name, classifier in classifier_data:\n",
        "  skf = StratifiedKFold(n_splits=10, shuffle=True)\n",
        "  accuracies = cross_val_score(classifier, X=x_train, y=y_train, cv=skf)\n",
        "  print(\"Mean accuracy of\", classifier_name, \":{:.2f} %\".format(accuracies.mean()*100))\n",
        "  modelaccuraies.append(accuracies)\n",
        "  modelmeans.append(accuracies.mean()*100)\n",
        "  modelnames.append(classifier_name)\n",
        "\n",
        "plt.figure(figsize=(10,5))\n",
        "plt.ylim([60, 80])\n",
        "plt.bar(modelnames, modelmeans)\n",
        "\n",
        "fig = plt.figure(figsize=(10,5))\n",
        "ax = fig.add_subplot(111)\n",
        "ax.boxplot(modelaccuraies)\n",
        "ax.set_xticklabels(modelnames)\n",
        "plt.show()"
      ],
      "metadata": {
        "colab": {
          "base_uri": "https://localhost:8080/",
          "height": 792
        },
        "id": "MPFE11rosxSU",
        "outputId": "9a49136a-cb8a-4dc1-a45c-7f58a2aeb1a6"
      },
      "execution_count": 55,
      "outputs": [
        {
          "output_type": "stream",
          "name": "stdout",
          "text": [
            "Mean accuracy of D_tree :67.91 %\n",
            "Mean accuracy of RF :72.75 %\n",
            "Mean accuracy of GNB :75.20 %\n",
            "Mean accuracy of KNN :71.54 %\n",
            "Mean accuracy of Ada :74.48 %\n",
            "Mean accuracy of QDA :76.04 %\n",
            "Mean accuracy of SVM_l :72.57 %\n",
            "Mean accuracy of SVM_k :74.49 %\n",
            "Mean accuracy of Bagging :74.84 %\n"
          ]
        },
        {
          "output_type": "display_data",
          "data": {
            "text/plain": [
              "<Figure size 720x360 with 1 Axes>"
            ],
            "image/png": "[encoded data removed]"
          },
          "metadata": {
            "needs_background": "light"
          }
        },
        {
          "output_type": "display_data",
          "data": {
            "text/plain": [
              "<Figure size 720x360 with 1 Axes>"
            ],
            "image/png": "[encoded data removed]"
          },
          "metadata": {
            "needs_background": "light"
          }
        }
      ]
    },
    {
      "cell_type": "code",
      "source": [],
      "metadata": {
        "id": "cjSIOYUq3zt5"
      },
      "execution_count": null,
      "outputs": []
    }
  ]
}