{
  "nbformat": 4,
  "nbformat_minor": 0,
  "metadata": {
    "colab": {
      "provenance": []
    },
    "kernelspec": {
      "name": "python3",
      "display_name": "Python 3"
    },
    "language_info": {
      "name": "python"
    }
  },
  "cells": [
    {
      "cell_type": "code",
      "execution_count": 1,
      "metadata": {
        "id": "abkOeDF9330F"
      },
      "outputs": [],
      "source": [
        "fish_length = [25.4, 26.3, 26.5, 29.0, 29.0, 29.7, 29.7, 30.0, 30.0, 30.7, 31.0, 31.0, \n",
        "                31.5, 32.0, 32.0, 32.0, 33.0, 33.0, 33.5, 33.5, 34.0, 34.0, 34.5, 35.0, \n",
        "                35.0, 35.0, 35.0, 36.0, 36.0, 37.0, 38.5, 38.5, 39.5, 41.0, 41.0, 9.8, \n",
        "                10.5, 10.6, 11.0, 11.2, 11.3, 11.8, 11.8, 12.0, 12.2, 12.4, 13.0, 14.3, 15.0]\n",
        "fish_weight = [242.0, 290.0, 340.0, 363.0, 430.0, 450.0, 500.0, 390.0, 450.0, 500.0, 475.0, 500.0, \n",
        "                500.0, 340.0, 600.0, 600.0, 700.0, 700.0, 610.0, 650.0, 575.0, 685.0, 620.0, 680.0, \n",
        "                700.0, 725.0, 720.0, 714.0, 850.0, 1000.0, 920.0, 955.0, 925.0, 975.0, 950.0, 6.7, \n",
        "                7.5, 7.0, 9.7, 9.8, 8.7, 10.0, 9.9, 9.8, 12.2, 13.4, 12.2, 19.7, 19.9]"
      ]
    },
    {
      "cell_type": "code",
      "source": [
        "fish_data = [[l, w] for l, w in zip(fish_length, fish_weight)]\n",
        "fish_targe = [1]*35 + [0] * 14"
      ],
      "metadata": {
        "id": "tprl0E2Z4RpO"
      },
      "execution_count": 6,
      "outputs": []
    },
    {
      "cell_type": "code",
      "source": [
        "print(len(fish_data))\n",
        "print(len(fish_targe))"
      ],
      "metadata": {
        "colab": {
          "base_uri": "https://localhost:8080/"
        },
        "id": "g1bzXkbP4oMX",
        "outputId": "a05b4a59-94e2-466f-9583-9b2812cda1c3"
      },
      "execution_count": 7,
      "outputs": [
        {
          "output_type": "stream",
          "name": "stdout",
          "text": [
            "49\n",
            "49\n"
          ]
        }
      ]
    },
    {
      "cell_type": "code",
      "source": [
        "print(fish_data[:5])\n",
        "print(fish_targe[:5])"
      ],
      "metadata": {
        "colab": {
          "base_uri": "https://localhost:8080/"
        },
        "id": "PREtK9K-4zcl",
        "outputId": "da8d0dd3-e65e-42f7-94b5-67487f65f11f"
      },
      "execution_count": 8,
      "outputs": [
        {
          "output_type": "stream",
          "name": "stdout",
          "text": [
            "[[25.4, 242.0], [26.3, 290.0], [26.5, 340.0], [29.0, 363.0], [29.0, 430.0]]\n",
            "[1, 1, 1, 1, 1]\n"
          ]
        }
      ]
    },
    {
      "cell_type": "code",
      "source": [
        "train_input = fish_data[:35]\n",
        "train_target = fish_targe[:35]\n",
        "\n",
        "test_input = fish_data[35:]\n",
        "test_target = fish_targe[35:]\n",
        "\n",
        "print(len(train_input), len(train_target),len(test_input),len(test_target))"
      ],
      "metadata": {
        "colab": {
          "base_uri": "https://localhost:8080/"
        },
        "id": "HDXgdJ5c5Kay",
        "outputId": "8012c283-6e76-4476-af75-2fab7fe887f9"
      },
      "execution_count": 10,
      "outputs": [
        {
          "output_type": "stream",
          "name": "stdout",
          "text": [
            "35 35 14 14\n"
          ]
        }
      ]
    },
    {
      "cell_type": "code",
      "source": [
        "from sklearn.neighbors import KNeighborsClassifier\n",
        "\n",
        "kn = KNeighborsClassifier()\n",
        "kn = kn.fit(train_input, train_target)\n",
        "kn.score(test_input, test_target)"
      ],
      "metadata": {
        "colab": {
          "base_uri": "https://localhost:8080/"
        },
        "id": "vFo9KeLj7bve",
        "outputId": "644bd89f-9f92-401d-9608-61027557d3a3"
      },
      "execution_count": 11,
      "outputs": [
        {
          "output_type": "execute_result",
          "data": {
            "text/plain": [
              "0.0"
            ]
          },
          "metadata": {},
          "execution_count": 11
        }
      ]
    },
    {
      "cell_type": "code",
      "source": [
        "import numpy as np\n",
        "\n",
        "input_arr = np.array(fish_data)\n",
        "target_arr = np.array(fish_targe)\n",
        "\n",
        "print(input_arr)\n",
        "print(input_arr.shape, target_arr.shape)"
      ],
      "metadata": {
        "colab": {
          "base_uri": "https://localhost:8080/"
        },
        "id": "pr7XNl55-q3B",
        "outputId": "f63407b1-a026-4fc9-fc2c-1ea93cb83586"
      },
      "execution_count": 15,
      "outputs": [
        {
          "output_type": "stream",
          "name": "stdout",
          "text": [
            "[[  25.4  242. ]\n",
            " [  26.3  290. ]\n",
            " [  26.5  340. ]\n",
            " [  29.   363. ]\n",
            " [  29.   430. ]\n",
            " [  29.7  450. ]\n",
            " [  29.7  500. ]\n",
            " [  30.   390. ]\n",
            " [  30.   450. ]\n",
            " [  30.7  500. ]\n",
            " [  31.   475. ]\n",
            " [  31.   500. ]\n",
            " [  31.5  500. ]\n",
            " [  32.   340. ]\n",
            " [  32.   600. ]\n",
            " [  32.   600. ]\n",
            " [  33.   700. ]\n",
            " [  33.   700. ]\n",
            " [  33.5  610. ]\n",
            " [  33.5  650. ]\n",
            " [  34.   575. ]\n",
            " [  34.   685. ]\n",
            " [  34.5  620. ]\n",
            " [  35.   680. ]\n",
            " [  35.   700. ]\n",
            " [  35.   725. ]\n",
            " [  35.   720. ]\n",
            " [  36.   714. ]\n",
            " [  36.   850. ]\n",
            " [  37.  1000. ]\n",
            " [  38.5  920. ]\n",
            " [  38.5  955. ]\n",
            " [  39.5  925. ]\n",
            " [  41.   975. ]\n",
            " [  41.   950. ]\n",
            " [   9.8    6.7]\n",
            " [  10.5    7.5]\n",
            " [  10.6    7. ]\n",
            " [  11.     9.7]\n",
            " [  11.2    9.8]\n",
            " [  11.3    8.7]\n",
            " [  11.8   10. ]\n",
            " [  11.8    9.9]\n",
            " [  12.     9.8]\n",
            " [  12.2   12.2]\n",
            " [  12.4   13.4]\n",
            " [  13.    12.2]\n",
            " [  14.3   19.7]\n",
            " [  15.    19.9]]\n",
            "(49, 2) (49,)\n"
          ]
        }
      ]
    },
    {
      "cell_type": "code",
      "source": [
        "np.random.seed(42)\n",
        "idx = np.arange(49)\n",
        "np.random.shuffle(idx)\n",
        "\n",
        "print(idx)"
      ],
      "metadata": {
        "colab": {
          "base_uri": "https://localhost:8080/"
        },
        "id": "Xrw5GvGdEPAW",
        "outputId": "07f109c2-89c8-49c3-f2d4-7bc74a217889"
      },
      "execution_count": 19,
      "outputs": [
        {
          "output_type": "stream",
          "name": "stdout",
          "text": [
            "[13 45 47 44 17 27 26 25 31 19 12  4 34  8  3  6 40 41 46 15  9 16 24 33\n",
            " 30  0 43 32  5 29 11 36  1 21  2 37 35 23 39 10 22 18 48 20  7 42 14 28\n",
            " 38]\n"
          ]
        }
      ]
    },
    {
      "cell_type": "code",
      "source": [
        "train_input = input_arr[idx[:35]]\n",
        "train_target = target_arr[idx[:35]]\n",
        "\n",
        "test_input = input_arr[idx[35:]]\n",
        "test_target = target_arr[idx[35:]]\n",
        "\n",
        "print(train_input, train_target,test_input,test_target)"
      ],
      "metadata": {
        "colab": {
          "base_uri": "https://localhost:8080/"
        },
        "id": "K2uzuwzrFnm1",
        "outputId": "96f23d24-133c-4f98-a5d5-a1dc22bcf162"
      },
      "execution_count": 20,
      "outputs": [
        {
          "output_type": "stream",
          "name": "stdout",
          "text": [
            "[[  32.   340. ]\n",
            " [  12.4   13.4]\n",
            " [  14.3   19.7]\n",
            " [  12.2   12.2]\n",
            " [  33.   700. ]\n",
            " [  36.   714. ]\n",
            " [  35.   720. ]\n",
            " [  35.   725. ]\n",
            " [  38.5  955. ]\n",
            " [  33.5  650. ]\n",
            " [  31.5  500. ]\n",
            " [  29.   430. ]\n",
            " [  41.   950. ]\n",
            " [  30.   450. ]\n",
            " [  29.   363. ]\n",
            " [  29.7  500. ]\n",
            " [  11.3    8.7]\n",
            " [  11.8   10. ]\n",
            " [  13.    12.2]\n",
            " [  32.   600. ]\n",
            " [  30.7  500. ]\n",
            " [  33.   700. ]\n",
            " [  35.   700. ]\n",
            " [  41.   975. ]\n",
            " [  38.5  920. ]\n",
            " [  25.4  242. ]\n",
            " [  12.     9.8]\n",
            " [  39.5  925. ]\n",
            " [  29.7  450. ]\n",
            " [  37.  1000. ]\n",
            " [  31.   500. ]\n",
            " [  10.5    7.5]\n",
            " [  26.3  290. ]\n",
            " [  34.   685. ]\n",
            " [  26.5  340. ]] [1 0 0 0 1 1 1 1 1 1 1 1 1 1 1 1 0 0 0 1 1 1 1 1 1 1 0 1 1 1 1 0 1 1 1] [[ 10.6   7. ]\n",
            " [  9.8   6.7]\n",
            " [ 35.  680. ]\n",
            " [ 11.2   9.8]\n",
            " [ 31.  475. ]\n",
            " [ 34.5 620. ]\n",
            " [ 33.5 610. ]\n",
            " [ 15.   19.9]\n",
            " [ 34.  575. ]\n",
            " [ 30.  390. ]\n",
            " [ 11.8   9.9]\n",
            " [ 32.  600. ]\n",
            " [ 36.  850. ]\n",
            " [ 11.    9.7]] [0 0 1 0 1 1 1 0 1 1 0 1 1 0]\n"
          ]
        }
      ]
    },
    {
      "cell_type": "code",
      "source": [],
      "metadata": {
        "id": "Z_wEOXQrHGT1"
      },
      "execution_count": null,
      "outputs": []
    }
  ]
}