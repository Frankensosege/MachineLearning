{
  "nbformat": 4,
  "nbformat_minor": 0,
  "metadata": {
    "colab": {
      "provenance": [],
      "authorship_tag": "ABX9TyNDbyzlLlOWPoDuuEaaQc14",
      "include_colab_link": true
    },
    "kernelspec": {
      "name": "python3",
      "display_name": "Python 3"
    },
    "language_info": {
      "name": "python"
    }
  },
  "cells": [
    {
      "cell_type": "markdown",
      "metadata": {
        "id": "view-in-github",
        "colab_type": "text"
      },
      "source": [
        "<a href=\"https://colab.research.google.com/github/Frankensosege/MachineLearning/blob/main/03_3_%ED%8A%B9%EC%84%B1%EA%B3%B5%ED%95%99%EA%B3%BC_%EA%B7%9C%EC%A0%9C.ipynb\" target=\"_parent\"><img src=\"https://colab.research.google.com/assets/colab-badge.svg\" alt=\"Open In Colab\"/></a>"
      ]
    },
    {
      "cell_type": "markdown",
      "source": [
        "특성공학 (feature enginiering): 가지고있는 특성을 바탕으로 새로운 특성을 생성 예:3-2에서 길이제곱</p>\n",
        "특성추출 (feature extraction): 가진 특성중에 필요한 특성을 선택하여 사용</p>\n",
        "규제 : 릿지, 라쏘"
      ],
      "metadata": {
        "id": "A7fJ4Fc81Og3"
      }
    },
    {
      "cell_type": "code",
      "execution_count": 1,
      "metadata": {
        "colab": {
          "base_uri": "https://localhost:8080/"
        },
        "id": "73VeJPC6z_H4",
        "outputId": "798388c9-71ad-4ac0-8a8d-c44a8a9b08b0"
      },
      "outputs": [
        {
          "output_type": "stream",
          "name": "stdout",
          "text": [
            "<class 'pandas.core.frame.DataFrame'>\n",
            "RangeIndex: 56 entries, 0 to 55\n",
            "Data columns (total 3 columns):\n",
            " #   Column   Non-Null Count  Dtype  \n",
            "---  ------   --------------  -----  \n",
            " 0   length   56 non-null     float64\n",
            " 1    height  56 non-null     float64\n",
            " 2    width   56 non-null     float64\n",
            "dtypes: float64(3)\n",
            "memory usage: 1.4 KB\n",
            "None\n",
            "          length     height      width\n",
            "count  56.000000  56.000000  56.000000\n",
            "mean   27.892857   7.862143   4.745536\n",
            "std     9.021668   2.878343   1.775006\n",
            "min     8.400000   2.110000   1.410000\n",
            "25%    21.825000   5.690000   3.520000\n",
            "50%    25.300000   6.920000   4.155000\n",
            "75%    36.625000  10.850000   6.450000\n",
            "max    44.000000  12.800000   8.140000\n",
            "[[ 8.4   2.11  1.41]\n",
            " [13.7   3.53  2.  ]\n",
            " [15.    3.82  2.43]\n",
            " [16.2   4.59  2.63]\n",
            " [17.4   4.59  2.94]\n",
            " [18.    5.22  3.32]\n",
            " [18.7   5.2   3.12]\n",
            " [19.    5.64  3.05]\n",
            " [19.6   5.14  3.04]\n",
            " [20.    5.08  2.77]\n",
            " [21.    5.69  3.56]\n",
            " [21.    5.92  3.31]\n",
            " [21.    5.69  3.67]\n",
            " [21.3   6.38  3.53]\n",
            " [22.    6.11  3.41]\n",
            " [22.    5.64  3.52]\n",
            " [22.    6.11  3.52]\n",
            " [22.    5.88  3.52]\n",
            " [22.    5.52  4.  ]\n",
            " [22.5   5.86  3.62]\n",
            " [22.5   6.79  3.62]\n",
            " [22.7   5.95  3.63]\n",
            " [23.    5.22  3.63]\n",
            " [23.5   6.28  3.72]\n",
            " [24.    7.29  3.72]\n",
            " [24.    6.38  3.82]\n",
            " [24.6   6.73  4.17]\n",
            " [25.    6.44  3.68]\n",
            " [25.6   6.56  4.24]\n",
            " [26.5   7.17  4.14]\n",
            " [27.3   8.32  5.14]\n",
            " [27.5   7.17  4.34]\n",
            " [27.5   7.05  4.34]\n",
            " [27.5   7.28  4.57]\n",
            " [28.    7.82  4.2 ]\n",
            " [28.7   7.59  4.64]\n",
            " [30.    7.62  4.77]\n",
            " [32.8  10.03  6.02]\n",
            " [34.5  10.26  6.39]\n",
            " [35.   11.49  7.8 ]\n",
            " [36.5  10.88  6.86]\n",
            " [36.   10.61  6.74]\n",
            " [37.   10.84  6.26]\n",
            " [37.   10.57  6.37]\n",
            " [39.   11.14  7.49]\n",
            " [39.   11.14  6.  ]\n",
            " [39.   12.43  7.35]\n",
            " [40.   11.93  7.11]\n",
            " [40.   11.73  7.22]\n",
            " [40.   12.38  7.46]\n",
            " [40.   11.14  6.63]\n",
            " [42.   12.8   6.87]\n",
            " [43.   11.93  7.28]\n",
            " [43.   12.51  7.42]\n",
            " [43.5  12.6   8.14]\n",
            " [44.   12.49  7.6 ]]\n",
            "(56, 3)\n"
          ]
        }
      ],
      "source": [
        "import pandas as pd\n",
        "\n",
        "df = pd.read_csv('https://bit.ly/perch_csv_data')\n",
        "print(df.info())\n",
        "print(df.describe())\n",
        "perch_full = df.to_numpy()\n",
        "print(perch_full)\n",
        "print(perch_full.shape)"
      ]
    },
    {
      "cell_type": "code",
      "source": [
        "import numpy as np\n",
        "from sklearn.model_selection import train_test_split\n",
        "\n",
        "perch_weight = np.array([5.9, 32.0, 40.0, 51.5, 70.0, 100.0, 78.0, 80.0, 85.0, 85.0, 110.0,\n",
        "       115.0, 125.0, 130.0, 120.0, 120.0, 130.0, 135.0, 110.0, 130.0,\n",
        "       150.0, 145.0, 150.0, 170.0, 225.0, 145.0, 188.0, 180.0, 197.0,\n",
        "       218.0, 300.0, 260.0, 265.0, 250.0, 250.0, 300.0, 320.0, 514.0,\n",
        "       556.0, 840.0, 685.0, 700.0, 700.0, 690.0, 900.0, 650.0, 820.0,\n",
        "       850.0, 900.0, 1015.0, 820.0, 1100.0, 1000.0, 1100.0, 1000.0,\n",
        "       1000.0])\n",
        "\n",
        "train_input, test_input, train_target, test_target = train_test_split(perch_full, perch_weight, random_state=42)\n",
        "print(train_input.shape, test_input.shape, train_target.shape, test_target.shape)"
      ],
      "metadata": {
        "colab": {
          "base_uri": "https://localhost:8080/"
        },
        "id": "Losk54D-5wMq",
        "outputId": "56026df5-665c-49bc-ba54-01d9008e53f8"
      },
      "execution_count": 2,
      "outputs": [
        {
          "output_type": "stream",
          "name": "stdout",
          "text": [
            "(42, 3) (14, 3) (42,) (14,)\n"
          ]
        }
      ]
    },
    {
      "cell_type": "markdown",
      "source": [
        "보유한 농어의 정보들을 동일한 행열의 행렬 곱 형태로 특성의 갯수를 늘려준다"
      ],
      "metadata": {
        "id": "HVLuNvLlYNZJ"
      }
    },
    {
      "cell_type": "code",
      "source": [
        "from sklearn.preprocessing import PolynomialFeatures\n",
        "\n",
        "#poly = PolynomialFeatures(degree=2, include_bias=False) # degree=2, include_bias=True (default)\n",
        "poly = PolynomialFeatures()\n",
        "#1, 2, 5, 9, 2**2, 5**2, 9**2, 2*5, 5*9, 9*2\n",
        "poly.fit([[2, 5, 9]])\n",
        "print(poly.transform([[2, 5, 9]]))\n",
        "#== poly.fit_transform([[2, 5, 9]])\n",
        "# fit + transform == fit_transform :"
      ],
      "metadata": {
        "colab": {
          "base_uri": "https://localhost:8080/"
        },
        "id": "MvH93O1h6p41",
        "outputId": "bcb0bf71-ae8e-480a-c558-685db8c517e6"
      },
      "execution_count": 3,
      "outputs": [
        {
          "output_type": "stream",
          "name": "stdout",
          "text": [
            "[[ 1.  2.  5.  9.  4. 10. 18. 25. 45. 81.]]\n"
          ]
        }
      ]
    },
    {
      "cell_type": "code",
      "source": [
        "poly = PolynomialFeatures(degree=2, include_bias=False) # degree=2, include_bias=True (default)\n",
        "poly.fit([[2, 5, 9]])\n",
        "print(poly.transform([[2, 5, 9]]))"
      ],
      "metadata": {
        "colab": {
          "base_uri": "https://localhost:8080/"
        },
        "id": "EhKyNeM2_Kbb",
        "outputId": "c692f255-845e-4be8-972e-f3395c711480"
      },
      "execution_count": 4,
      "outputs": [
        {
          "output_type": "stream",
          "name": "stdout",
          "text": [
            "[[ 2.  5.  9.  4. 10. 18. 25. 45. 81.]]\n"
          ]
        }
      ]
    },
    {
      "cell_type": "code",
      "source": [
        "poly.fit(train_input)\n",
        "train_poly = poly.transform(train_input)\n",
        "print(train_poly.shape)"
      ],
      "metadata": {
        "colab": {
          "base_uri": "https://localhost:8080/"
        },
        "id": "_fyY0CQBE9Yy",
        "outputId": "d687951e-4d32-4b61-c838-9a407229693b"
      },
      "execution_count": 5,
      "outputs": [
        {
          "output_type": "stream",
          "name": "stdout",
          "text": [
            "(42, 9)\n"
          ]
        }
      ]
    },
    {
      "cell_type": "markdown",
      "source": [
        "transform으로 늘려준 특성에 대한 정보를 확인"
      ],
      "metadata": {
        "id": "Vl2QXa9TYleY"
      }
    },
    {
      "cell_type": "code",
      "source": [
        "print(poly.get_feature_names_out())"
      ],
      "metadata": {
        "colab": {
          "base_uri": "https://localhost:8080/"
        },
        "id": "W3cVWnP7F78n",
        "outputId": "e6fc4bc8-5219-4d38-a3b7-469ed28bce95"
      },
      "execution_count": 6,
      "outputs": [
        {
          "output_type": "stream",
          "name": "stdout",
          "text": [
            "['x0' 'x1' 'x2' 'x0^2' 'x0 x1' 'x0 x2' 'x1^2' 'x1 x2' 'x2^2']\n"
          ]
        }
      ]
    },
    {
      "cell_type": "code",
      "source": [
        "test_poly = poly.transform(test_input)\n",
        "print(test_poly.shape)"
      ],
      "metadata": {
        "colab": {
          "base_uri": "https://localhost:8080/"
        },
        "id": "h2Eua0iPGJT_",
        "outputId": "d323fa81-4b0e-45b6-fe23-a8c576c98def"
      },
      "execution_count": 7,
      "outputs": [
        {
          "output_type": "stream",
          "name": "stdout",
          "text": [
            "(14, 9)\n"
          ]
        }
      ]
    },
    {
      "cell_type": "code",
      "source": [
        "from sklearn.linear_model import LinearRegression\n",
        "\n",
        "lr = LinearRegression()\n",
        "lr.fit(train_poly, train_target)\n",
        "print(lr.score(train_poly, train_target))"
      ],
      "metadata": {
        "colab": {
          "base_uri": "https://localhost:8080/"
        },
        "id": "1AOAbbwVGoPc",
        "outputId": "c227c5fe-d33f-4d9d-a805-1b105184dd31"
      },
      "execution_count": 8,
      "outputs": [
        {
          "output_type": "stream",
          "name": "stdout",
          "text": [
            "0.9903183436982125\n"
          ]
        }
      ]
    },
    {
      "cell_type": "code",
      "source": [
        "print(lr.score(test_poly, test_target))"
      ],
      "metadata": {
        "colab": {
          "base_uri": "https://localhost:8080/"
        },
        "id": "0sRYZPHuHe85",
        "outputId": "8f799782-f8b0-404e-a721-e1aba1268660"
      },
      "execution_count": 9,
      "outputs": [
        {
          "output_type": "stream",
          "name": "stdout",
          "text": [
            "0.9714559911594111\n"
          ]
        }
      ]
    },
    {
      "cell_type": "code",
      "source": [
        "#lr.prdict()"
      ],
      "metadata": {
        "id": "-KI_mUdtIgzx"
      },
      "execution_count": 10,
      "outputs": []
    },
    {
      "cell_type": "markdown",
      "source": [
        "transform의 degree를 지나치게 많이 한경우 과대적합 발생"
      ],
      "metadata": {
        "id": "9te0k7c4Y045"
      }
    },
    {
      "cell_type": "code",
      "source": [
        "poly = PolynomialFeatures(degree=5, include_bias=False) # degree=2, include_bias=True (default)\n",
        "poly.fit(train_input)\n",
        "train_poly = poly.transform(train_input)\n",
        "test_poly = poly.transform(test_input)\n",
        "\n",
        "lr = LinearRegression()\n",
        "lr.fit(train_poly, train_target)\n",
        "print(lr.score(train_poly, train_target))\n",
        "print(lr.score(test_poly, test_target))"
      ],
      "metadata": {
        "colab": {
          "base_uri": "https://localhost:8080/"
        },
        "id": "xzJ_hFT5Hr9E",
        "outputId": "2eb3cc07-1c6e-4fc3-e443-3927e240dfe9"
      },
      "execution_count": 11,
      "outputs": [
        {
          "output_type": "stream",
          "name": "stdout",
          "text": [
            "0.9999999999996433\n",
            "-144.40579436844948\n"
          ]
        }
      ]
    },
    {
      "cell_type": "markdown",
      "source": [
        "StandardScaler를 사용하여 서로다른 단위를 가진 데이터 셋을 표준화한다.</p>\n",
        "https://scikit-learn.org/stable/modules/preprocessing.html"
      ],
      "metadata": {
        "id": "54WkQVERZaNA"
      }
    },
    {
      "cell_type": "code",
      "source": [
        "from sklearn.preprocessing import StandardScaler\n",
        "\n",
        "ss = StandardScaler()\n",
        "ss.fit(train_poly)\n",
        "train_scaled = ss.transform(train_poly)\n",
        "test_scaled = ss.transform(test_poly)"
      ],
      "metadata": {
        "id": "QjlBsMYXIW0Y"
      },
      "execution_count": 12,
      "outputs": []
    },
    {
      "cell_type": "code",
      "source": [
        "print(train_scaled[:3])"
      ],
      "metadata": {
        "colab": {
          "base_uri": "https://localhost:8080/"
        },
        "id": "wfeQFerBMBQi",
        "outputId": "9f3e9443-6077-465d-f3a6-d177c59cce00"
      },
      "execution_count": 13,
      "outputs": [
        {
          "output_type": "stream",
          "name": "stdout",
          "text": [
            "[[-1.01339619 -1.01007487 -1.01952321 -0.9549757  -0.9496784  -0.95745849\n",
            "  -0.93942079 -0.94342509 -0.94100107 -0.88757122 -0.88399964 -0.89100599\n",
            "  -0.87785292 -0.88311456 -0.88430909 -0.8691891  -0.87259422 -0.87147928\n",
            "  -0.86603533 -0.82233944 -0.82171953 -0.8280588  -0.81928269 -0.82512549\n",
            "  -0.8278857  -0.81486775 -0.82006923 -0.82177279 -0.82010716 -0.80835934\n",
            "  -0.81274154 -0.81321125 -0.8098514  -0.80275974 -0.7637909  -0.76597773\n",
            "  -0.77150714 -0.76668667 -0.77246614 -0.77577893 -0.76571689 -0.77162398\n",
            "  -0.77472752 -0.77517751 -0.76290623 -0.76877311 -0.77148634 -0.77113383\n",
            "  -0.767785   -0.75814062 -0.76376113 -0.76586966 -0.76449499 -0.75967179\n",
            "  -0.75143746]\n",
            " [-0.73842893 -0.75254307 -0.74466913 -0.76472563 -0.7717585  -0.77238267\n",
            "  -0.7747325  -0.77298293 -0.76716811 -0.76291014 -0.76770896 -0.77117372\n",
            "  -0.7701438  -0.77242144 -0.77168016 -0.7701077  -0.7710676  -0.76852551\n",
            "  -0.76268353 -0.74414953 -0.74888304 -0.75336339 -0.75182759 -0.75602974\n",
            "  -0.75767358 -0.75276277 -0.75654505 -0.75734709 -0.75530344 -0.75151822\n",
            "  -0.75470284 -0.7544831  -0.75094965 -0.74419754 -0.71646953 -0.72192479\n",
            "  -0.72646818 -0.72588462 -0.73075731 -0.73343457 -0.72812394 -0.73321011\n",
            "  -0.73576127 -0.73592752 -0.72845668 -0.73359433 -0.73584309 -0.73529384\n",
            "  -0.73201564 -0.72674557 -0.73173294 -0.73346797 -0.73198449 -0.72731765\n",
            "  -0.71950111]\n",
            " [-1.11650891 -0.98919391 -0.97371419 -1.02065999 -0.9714645  -0.97031097\n",
            "  -0.92689165 -0.92331614 -0.91379551 -0.92715994 -0.90484569 -0.90818436\n",
            "  -0.88325413 -0.88524768 -0.88320326 -0.86212687 -0.8626609  -0.85882187\n",
            "  -0.85087284 -0.84515835 -0.83603176 -0.84079274 -0.82638952 -0.83079371\n",
            "  -0.83208203 -0.81597363 -0.81987137 -0.82028273 -0.81736635 -0.80456916\n",
            "  -0.80778177 -0.8071358  -0.80274122 -0.79471984 -0.77647055 -0.7747107\n",
            "  -0.77954793 -0.77201712 -0.77715994 -0.77980618 -0.76815525 -0.77347623\n",
            "  -0.77598118 -0.77583274 -0.76292803 -0.76825674 -0.77043638 -0.76956644\n",
            "  -0.76572715 -0.75618509 -0.76131482 -0.76295353 -0.76114089 -0.75592147\n",
            "  -0.74734146]]\n"
          ]
        }
      ]
    },
    {
      "cell_type": "markdown",
      "source": [
        "\n",
        "# 릿지 회귀</p>\n",
        "Ridge : $$||y - Xw||^2_2 + alpha * ||w||^2_2$$</p>\n",
        "https://scikit-learn.org/stable/modules/generated/sklearn.linear_model.Ridge.html</p>\n",
        "*hyperparameter : 머신러닝이 학습하지 않고 사람이 직접 지정해 주어야하는 파라메터*</p>\n",
        "경사하강법\n",
        "\n"
      ],
      "metadata": {
        "id": "6zy25YKg1LZi"
      }
    },
    {
      "cell_type": "code",
      "source": [
        "from sklearn.linear_model import Ridge\n",
        "\n",
        "ridge = Ridge() # 파라메터로 alpha=n (default : 1)을 사용하여 규제 강도를 조절 할 수 있다. n이 작을 수 록 과대 적합 될 가능성이 많아진다.(hyperparameter)\n",
        "ridge.fit(train_scaled, train_target)\n",
        "print(ridge.score(train_scaled, train_target))\n",
        "print(ridge.score(test_scaled, test_target))"
      ],
      "metadata": {
        "id": "aN7UoqDMMEnR",
        "colab": {
          "base_uri": "https://localhost:8080/"
        },
        "outputId": "2020f9bf-f07c-4dea-91ce-b4744b9c2f26"
      },
      "execution_count": 16,
      "outputs": [
        {
          "output_type": "stream",
          "name": "stdout",
          "text": [
            "0.9896101671037343\n",
            "0.9790693977615387\n"
          ]
        }
      ]
    },
    {
      "cell_type": "markdown",
      "source": [
        "그래프에서 최적점의 외쪽은 과대, 오른쪽은 과소 적합"
      ],
      "metadata": {
        "id": "oVBO7AS1HO-j"
      }
    },
    {
      "cell_type": "code",
      "source": [
        "import matplotlib.pyplot as plt\n",
        "\n",
        "train_score=[]\n",
        "test_score=[]\n",
        "\n",
        "alpha_list = [0.001, 0.01, 0.1, 1, 10, 100]\n",
        "\n",
        "for alpha in alpha_list:\n",
        "  ridge = Ridge(alpha=alpha)\n",
        "  ridge.fit(train_scaled, train_target)\n",
        "  train_score.append(ridge.score(train_scaled, train_target))\n",
        "  test_score.append(ridge.score(test_scaled, test_target))\n",
        "\n",
        "plt.plot(np.log10(alpha_list), train_score)\n",
        "plt.plot(np.log10(alpha_list), test_score)\n",
        "plt.xlabel('alpha')\n",
        "plt.xlabel('R^2')\n",
        "plt.show()"
      ],
      "metadata": {
        "colab": {
          "base_uri": "https://localhost:8080/",
          "height": 279
        },
        "id": "97INuY9NyFlw",
        "outputId": "2f0cff5c-e250-438b-f50d-106ff33c16d6"
      },
      "execution_count": 18,
      "outputs": [
        {
          "output_type": "display_data",
          "data": {
            "text/plain": [
              "<Figure size 432x288 with 1 Axes>"
            ],
            "image/png": "[encoded data removed]"
          },
          "metadata": {
            "needs_background": "light"
          }
        }
      ]
    },
    {
      "cell_type": "code",
      "source": [
        "ridge = Ridge(alpha=0.1)\n",
        "ridge.fit(train_scaled, train_target)\n",
        "print(ridge.score(train_scaled, train_target))\n",
        "print(ridge.score(test_scaled, test_target))"
      ],
      "metadata": {
        "colab": {
          "base_uri": "https://localhost:8080/"
        },
        "id": "FOeDwfgc_pns",
        "outputId": "75fae7db-83a8-43bd-bec7-d52ba2e0c6d8"
      },
      "execution_count": 20,
      "outputs": [
        {
          "output_type": "stream",
          "name": "stdout",
          "text": [
            "0.9903815817570367\n",
            "0.9827976465386928\n"
          ]
        }
      ]
    },
    {
      "cell_type": "code",
      "source": [
        "print(ridge.coef_)"
      ],
      "metadata": {
        "colab": {
          "base_uri": "https://localhost:8080/"
        },
        "id": "5u2nGKdLH5Ks",
        "outputId": "c76b14aa-61b8-4e4b-ef38-8bae6cd35bdc"
      },
      "execution_count": 30,
      "outputs": [
        {
          "output_type": "stream",
          "name": "stdout",
          "text": [
            "[ 27.61933479  -1.64022156 -19.73256036  30.03061951  16.99800255\n",
            "  17.83247301   4.46928273   3.87258547  22.8351822   19.50417483\n",
            "  17.75985317  14.53122144  13.34875736   7.57294011  19.2573194\n",
            "   5.12766348  -2.05671393  10.62376405  41.72322888   5.90722851\n",
            "  14.93389276  -0.4506018   19.86035413   1.27084276  -1.00708878\n",
            "  19.69043816  -1.15817017  -3.57357468  11.96629206  13.68484378\n",
            "  -8.41738209  -9.97919956   8.42421045  45.51544903  -6.23828569\n",
            "  13.36080282 -17.64759601  28.23566212  -6.56619234 -25.89115813\n",
            "  37.3785331   -0.39779345 -20.82275921 -23.80607786  39.96650626\n",
            "   0.10569722 -20.49768851 -21.74712923  -4.12579289  35.39224119\n",
            "  -5.59195    -25.3889504  -23.93962265  -1.89229971  39.44235556]\n"
          ]
        }
      ]
    },
    {
      "cell_type": "markdown",
      "source": [
        "# 라쏘회귀</p>\n",
        "lasso $$(1 / (2 * n_samples)) * ||y - Xw||^2_2 + alpha * ||w||_1$$</p>\n",
        "https://scikit-learn.org/stable/modules/generated/sklearn.linear_model.Lasso.html</p>\n",
        "좌표하강법"
      ],
      "metadata": {
        "id": "tKQ0qFcsDpB6"
      }
    },
    {
      "cell_type": "code",
      "source": [
        "from sklearn.linear_model import Lasso\n",
        "\n",
        "lasso = Lasso()\n",
        "lasso.fit(train_scaled, train_target)\n",
        "print(ridge.score(train_scaled, train_target))\n",
        "print(ridge.score(test_scaled, test_target))"
      ],
      "metadata": {
        "colab": {
          "base_uri": "https://localhost:8080/"
        },
        "id": "p8tr11EEAn0s",
        "outputId": "c85a71c2-d4cd-4e7c-86ca-da817fa83312"
      },
      "execution_count": 21,
      "outputs": [
        {
          "output_type": "stream",
          "name": "stdout",
          "text": [
            "0.9903815817570367\n",
            "0.9827976465386928\n"
          ]
        }
      ]
    },
    {
      "cell_type": "code",
      "source": [
        "train_score=[]\n",
        "test_score=[]\n",
        "\n",
        "alpha_list = [0.001, 0.01, 0.1, 1, 10, 100]\n",
        "\n",
        "for alpha in alpha_list:\n",
        "  lasso = Lasso(alpha=alpha, max_iter=10000)\n",
        "  lasso.fit(train_scaled, train_target)\n",
        "  train_score.append(lasso.score(train_scaled, train_target))\n",
        "  test_score.append(lasso.score(test_scaled, test_target))\n",
        "\n",
        "plt.plot(np.log10(alpha_list), train_score)\n",
        "plt.plot(np.log10(alpha_list), test_score)\n",
        "plt.xlabel('alpha')\n",
        "plt.xlabel('R^2')\n",
        "plt.show()"
      ],
      "metadata": {
        "colab": {
          "base_uri": "https://localhost:8080/",
          "height": 372
        },
        "id": "7db_kL9pFEJN",
        "outputId": "b22b8630-27a9-49c6-e013-8af1d3beee8f"
      },
      "execution_count": 27,
      "outputs": [
        {
          "output_type": "stream",
          "name": "stderr",
          "text": [
            "/usr/local/lib/python3.9/dist-packages/sklearn/linear_model/_coordinate_descent.py:631: ConvergenceWarning: Objective did not converge. You might want to increase the number of iterations, check the scale of the features or consider increasing regularisation. Duality gap: 1.878e+04, tolerance: 5.183e+02\n",
            "  model = cd_fast.enet_coordinate_descent(\n",
            "/usr/local/lib/python3.9/dist-packages/sklearn/linear_model/_coordinate_descent.py:631: ConvergenceWarning: Objective did not converge. You might want to increase the number of iterations, check the scale of the features or consider increasing regularisation. Duality gap: 1.297e+04, tolerance: 5.183e+02\n",
            "  model = cd_fast.enet_coordinate_descent(\n"
          ]
        },
        {
          "output_type": "display_data",
          "data": {
            "text/plain": [
              "<Figure size 432x288 with 1 Axes>"
            ],
            "image/png": "[encoded data removed]"
          },
          "metadata": {
            "needs_background": "light"
          }
        }
      ]
    },
    {
      "cell_type": "code",
      "source": [
        "lasso = Lasso(alpha=10, max_iter=10000)\n",
        "lasso.fit(train_scaled, train_target)\n",
        "print(ridge.score(train_scaled, train_target))\n",
        "print(ridge.score(test_scaled, test_target))"
      ],
      "metadata": {
        "colab": {
          "base_uri": "https://localhost:8080/"
        },
        "id": "zGzPDVaFFiFM",
        "outputId": "0df90f79-e96d-42ba-e2f1-9594a74b9a0a"
      },
      "execution_count": 28,
      "outputs": [
        {
          "output_type": "stream",
          "name": "stdout",
          "text": [
            "0.9903815817570367\n",
            "0.9827976465386928\n"
          ]
        }
      ]
    },
    {
      "cell_type": "code",
      "source": [
        "print(lasso.coef_)\n",
        "print(sum(lasso.coef_==0))"
      ],
      "metadata": {
        "colab": {
          "base_uri": "https://localhost:8080/"
        },
        "id": "rgTTywNNHDKY",
        "outputId": "84f22301-ed1f-44d0-d756-9bbddd4a6f55"
      },
      "execution_count": 31,
      "outputs": [
        {
          "output_type": "stream",
          "name": "stdout",
          "text": [
            "[  0.           0.           0.           0.           0.\n",
            " 103.82164392   0.           0.           0.           0.\n",
            "  24.775336     0.         130.86984839   0.           0.45505876\n",
            "   0.           0.           0.          26.58288964   0.\n",
            "   0.           0.           0.           0.           0.\n",
            "  37.35084953   0.           0.           0.           0.\n",
            "   0.           0.           0.           0.           0.\n",
            "   0.           0.           0.           0.           0.\n",
            "   0.           0.           0.           0.           0.\n",
            "   0.           0.           0.           0.          17.63825287\n",
            "   0.           0.           0.           0.           0.        ]\n",
            "48\n"
          ]
        }
      ]
    },
    {
      "cell_type": "code",
      "source": [],
      "metadata": {
        "id": "LqMD3cT-H2ft"
      },
      "execution_count": null,
      "outputs": []
    }
  ]
}