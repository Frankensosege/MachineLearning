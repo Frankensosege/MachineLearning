{
  "nbformat": 4,
  "nbformat_minor": 0,
  "metadata": {
    "colab": {
      "provenance": [],
      "authorship_tag": "ABX9TyNsEdfaPM1cSJLpRDktFo5P",
      "include_colab_link": true
    },
    "kernelspec": {
      "name": "python3",
      "display_name": "Python 3"
    },
    "language_info": {
      "name": "python"
    }
  },
  "cells": [
    {
      "cell_type": "markdown",
      "metadata": {
        "id": "view-in-github",
        "colab_type": "text"
      },
      "source": [
        "<a href=\"https://colab.research.google.com/github/Frankensosege/MachineLearning/blob/main/03_3_%ED%8A%B9%EC%84%B1%EA%B3%B5%ED%95%99%EA%B3%BC_%EA%B7%9C%EC%A0%9C.ipynb\" target=\"_parent\"><img src=\"https://colab.research.google.com/assets/colab-badge.svg\" alt=\"Open In Colab\"/></a>"
      ]
    },
    {
      "cell_type": "markdown",
      "source": [
        "특성공학 (feature enginiering): 가지고있는 특성을 바탕으로 새로운 특성을 생성 예:3-2에서 길이제곱</p>\n",
        "특성추출 (feature extraction): 가진 특성중에 필요한 특성을 선택하여 사용</p>\n",
        "규제 : 릿지, 라쏘"
      ],
      "metadata": {
        "id": "A7fJ4Fc81Og3"
      }
    },
    {
      "cell_type": "code",
      "execution_count": 8,
      "metadata": {
        "colab": {
          "base_uri": "https://localhost:8080/"
        },
        "id": "73VeJPC6z_H4",
        "outputId": "719634e1-a502-40b6-89ea-9ecc0932fc77"
      },
      "outputs": [
        {
          "output_type": "stream",
          "name": "stdout",
          "text": [
            "<class 'pandas.core.frame.DataFrame'>\n",
            "RangeIndex: 56 entries, 0 to 55\n",
            "Data columns (total 3 columns):\n",
            " #   Column   Non-Null Count  Dtype  \n",
            "---  ------   --------------  -----  \n",
            " 0   length   56 non-null     float64\n",
            " 1    height  56 non-null     float64\n",
            " 2    width   56 non-null     float64\n",
            "dtypes: float64(3)\n",
            "memory usage: 1.4 KB\n",
            "None\n",
            "          length     height      width\n",
            "count  56.000000  56.000000  56.000000\n",
            "mean   27.892857   7.862143   4.745536\n",
            "std     9.021668   2.878343   1.775006\n",
            "min     8.400000   2.110000   1.410000\n",
            "25%    21.825000   5.690000   3.520000\n",
            "50%    25.300000   6.920000   4.155000\n",
            "75%    36.625000  10.850000   6.450000\n",
            "max    44.000000  12.800000   8.140000\n",
            "[[ 8.4   2.11  1.41]\n",
            " [13.7   3.53  2.  ]\n",
            " [15.    3.82  2.43]\n",
            " [16.2   4.59  2.63]\n",
            " [17.4   4.59  2.94]\n",
            " [18.    5.22  3.32]\n",
            " [18.7   5.2   3.12]\n",
            " [19.    5.64  3.05]\n",
            " [19.6   5.14  3.04]\n",
            " [20.    5.08  2.77]\n",
            " [21.    5.69  3.56]\n",
            " [21.    5.92  3.31]\n",
            " [21.    5.69  3.67]\n",
            " [21.3   6.38  3.53]\n",
            " [22.    6.11  3.41]\n",
            " [22.    5.64  3.52]\n",
            " [22.    6.11  3.52]\n",
            " [22.    5.88  3.52]\n",
            " [22.    5.52  4.  ]\n",
            " [22.5   5.86  3.62]\n",
            " [22.5   6.79  3.62]\n",
            " [22.7   5.95  3.63]\n",
            " [23.    5.22  3.63]\n",
            " [23.5   6.28  3.72]\n",
            " [24.    7.29  3.72]\n",
            " [24.    6.38  3.82]\n",
            " [24.6   6.73  4.17]\n",
            " [25.    6.44  3.68]\n",
            " [25.6   6.56  4.24]\n",
            " [26.5   7.17  4.14]\n",
            " [27.3   8.32  5.14]\n",
            " [27.5   7.17  4.34]\n",
            " [27.5   7.05  4.34]\n",
            " [27.5   7.28  4.57]\n",
            " [28.    7.82  4.2 ]\n",
            " [28.7   7.59  4.64]\n",
            " [30.    7.62  4.77]\n",
            " [32.8  10.03  6.02]\n",
            " [34.5  10.26  6.39]\n",
            " [35.   11.49  7.8 ]\n",
            " [36.5  10.88  6.86]\n",
            " [36.   10.61  6.74]\n",
            " [37.   10.84  6.26]\n",
            " [37.   10.57  6.37]\n",
            " [39.   11.14  7.49]\n",
            " [39.   11.14  6.  ]\n",
            " [39.   12.43  7.35]\n",
            " [40.   11.93  7.11]\n",
            " [40.   11.73  7.22]\n",
            " [40.   12.38  7.46]\n",
            " [40.   11.14  6.63]\n",
            " [42.   12.8   6.87]\n",
            " [43.   11.93  7.28]\n",
            " [43.   12.51  7.42]\n",
            " [43.5  12.6   8.14]\n",
            " [44.   12.49  7.6 ]]\n",
            "(56, 3)\n"
          ]
        }
      ],
      "source": [
        "import pandas as pd\n",
        "\n",
        "df = pd.read_csv('https://bit.ly/perch_csv_data')\n",
        "print(df.info())\n",
        "print(df.describe())\n",
        "perch_full = df.to_numpy()\n",
        "print(perch_full)\n",
        "print(perch_full.shape)"
      ]
    },
    {
      "cell_type": "code",
      "source": [
        "import numpy as np\n",
        "from sklearn.model_selection import train_test_split\n",
        "\n",
        "perch_weight = np.array([5.9, 32.0, 40.0, 51.5, 70.0, 100.0, 78.0, 80.0, 85.0, 85.0, 110.0,\n",
        "       115.0, 125.0, 130.0, 120.0, 120.0, 130.0, 135.0, 110.0, 130.0,\n",
        "       150.0, 145.0, 150.0, 170.0, 225.0, 145.0, 188.0, 180.0, 197.0,\n",
        "       218.0, 300.0, 260.0, 265.0, 250.0, 250.0, 300.0, 320.0, 514.0,\n",
        "       556.0, 840.0, 685.0, 700.0, 700.0, 690.0, 900.0, 650.0, 820.0,\n",
        "       850.0, 900.0, 1015.0, 820.0, 1100.0, 1000.0, 1100.0, 1000.0,\n",
        "       1000.0])\n",
        "\n",
        "train_input, test_input, train_target, test_target = train_test_split(perch_full, perch_weight, random_state=42)\n",
        "print(train_input.shape, test_input.shape, train_target.shape, test_target.shape)"
      ],
      "metadata": {
        "colab": {
          "base_uri": "https://localhost:8080/"
        },
        "id": "Losk54D-5wMq",
        "outputId": "a442aa68-aa84-41d9-8001-ded3c481b432"
      },
      "execution_count": 9,
      "outputs": [
        {
          "output_type": "stream",
          "name": "stdout",
          "text": [
            "(42, 3) (14, 3) (42,) (14,)\n"
          ]
        }
      ]
    },
    {
      "cell_type": "markdown",
      "source": [
        "보유한 농어의 정보들을 동일한 행열의 행렬 곱 형태로 특성의 갯수를 늘려준다"
      ],
      "metadata": {
        "id": "HVLuNvLlYNZJ"
      }
    },
    {
      "cell_type": "code",
      "source": [
        "from sklearn.preprocessing import PolynomialFeatures\n",
        "\n",
        "#poly = PolynomialFeatures(degree=2, include_bias=False) # degree=2, include_bias=True (default)\n",
        "poly = PolynomialFeatures()\n",
        "#1, 2, 5, 9, 2**2, 5**2, 9**2, 2*5, 5*9, 9*2\n",
        "poly.fit([[2, 5, 9]])\n",
        "print(poly.transform([[2, 5, 9]]))\n",
        "#== poly.fit_transform([[2, 5, 9]])\n",
        "# fit + transform == fit_transform :"
      ],
      "metadata": {
        "colab": {
          "base_uri": "https://localhost:8080/"
        },
        "id": "MvH93O1h6p41",
        "outputId": "8642b1f0-9c88-4269-ec72-de4be26490b1"
      },
      "execution_count": 11,
      "outputs": [
        {
          "output_type": "stream",
          "name": "stdout",
          "text": [
            "[[ 1.  2.  5.  9.  4. 10. 18. 25. 45. 81.]]\n"
          ]
        }
      ]
    },
    {
      "cell_type": "code",
      "source": [
        "poly = PolynomialFeatures(degree=2, include_bias=False) # degree=2, include_bias=True (default)\n",
        "poly.fit([[2, 5, 9]])\n",
        "print(poly.transform([[2, 5, 9]]))"
      ],
      "metadata": {
        "colab": {
          "base_uri": "https://localhost:8080/"
        },
        "id": "EhKyNeM2_Kbb",
        "outputId": "72a0d835-4707-4c96-a869-059e5395a31f"
      },
      "execution_count": 12,
      "outputs": [
        {
          "output_type": "stream",
          "name": "stdout",
          "text": [
            "[[ 2.  5.  9.  4. 10. 18. 25. 45. 81.]]\n"
          ]
        }
      ]
    },
    {
      "cell_type": "code",
      "source": [
        "poly.fit(train_input)\n",
        "train_poly = poly.transform(train_input)\n",
        "print(train_poly.shape)"
      ],
      "metadata": {
        "colab": {
          "base_uri": "https://localhost:8080/"
        },
        "id": "_fyY0CQBE9Yy",
        "outputId": "48ad1f88-e9fe-4e55-8e1c-a645172d2879"
      },
      "execution_count": 14,
      "outputs": [
        {
          "output_type": "stream",
          "name": "stdout",
          "text": [
            "(42, 9)\n"
          ]
        }
      ]
    },
    {
      "cell_type": "markdown",
      "source": [
        "transform으로 늘려준 특성에 대한 정보를 확인"
      ],
      "metadata": {
        "id": "Vl2QXa9TYleY"
      }
    },
    {
      "cell_type": "code",
      "source": [
        "print(poly.get_feature_names_out())"
      ],
      "metadata": {
        "colab": {
          "base_uri": "https://localhost:8080/"
        },
        "id": "W3cVWnP7F78n",
        "outputId": "4a473a8e-1086-4fd5-ca07-8b949158618a"
      },
      "execution_count": 16,
      "outputs": [
        {
          "output_type": "stream",
          "name": "stdout",
          "text": [
            "['x0' 'x1' 'x2' 'x0^2' 'x0 x1' 'x0 x2' 'x1^2' 'x1 x2' 'x2^2']\n"
          ]
        }
      ]
    },
    {
      "cell_type": "code",
      "source": [
        "test_poly = poly.transform(test_input)\n",
        "print(test_poly.shape)"
      ],
      "metadata": {
        "colab": {
          "base_uri": "https://localhost:8080/"
        },
        "id": "h2Eua0iPGJT_",
        "outputId": "5fa9bf24-3d55-4d31-dff4-2c7c6232e5f8"
      },
      "execution_count": 17,
      "outputs": [
        {
          "output_type": "stream",
          "name": "stdout",
          "text": [
            "(14, 9)\n"
          ]
        }
      ]
    },
    {
      "cell_type": "code",
      "source": [
        "from sklearn.linear_model import LinearRegression\n",
        "\n",
        "lr = LinearRegression()\n",
        "lr.fit(train_poly, train_target)\n",
        "print(lr.score(train_poly, train_target))"
      ],
      "metadata": {
        "colab": {
          "base_uri": "https://localhost:8080/"
        },
        "id": "1AOAbbwVGoPc",
        "outputId": "1c41e352-ef3d-467b-9a8c-caa2ba6a63f7"
      },
      "execution_count": 19,
      "outputs": [
        {
          "output_type": "stream",
          "name": "stdout",
          "text": [
            "0.9903183436982125\n"
          ]
        }
      ]
    },
    {
      "cell_type": "code",
      "source": [
        "print(lr.score(test_poly, test_target))"
      ],
      "metadata": {
        "colab": {
          "base_uri": "https://localhost:8080/"
        },
        "id": "0sRYZPHuHe85",
        "outputId": "81d72474-2a4d-4a0e-b2c6-d30dfcfed2f9"
      },
      "execution_count": 20,
      "outputs": [
        {
          "output_type": "stream",
          "name": "stdout",
          "text": [
            "0.9714559911594111\n"
          ]
        }
      ]
    },
    {
      "cell_type": "code",
      "source": [
        "#lr.prdict()"
      ],
      "metadata": {
        "id": "-KI_mUdtIgzx"
      },
      "execution_count": null,
      "outputs": []
    },
    {
      "cell_type": "markdown",
      "source": [
        "transform의 degree를 지나치게 많이 한경우 과대적합 발생"
      ],
      "metadata": {
        "id": "9te0k7c4Y045"
      }
    },
    {
      "cell_type": "code",
      "source": [
        "poly = PolynomialFeatures(degree=5, include_bias=False) # degree=2, include_bias=True (default)\n",
        "poly.fit(train_input)\n",
        "train_poly = poly.transform(train_input)\n",
        "test_poly = poly.transform(test_input)\n",
        "\n",
        "lr = LinearRegression()\n",
        "lr.fit(train_poly, train_target)\n",
        "print(lr.score(train_poly, train_target))\n",
        "print(lr.score(test_poly, test_target))"
      ],
      "metadata": {
        "colab": {
          "base_uri": "https://localhost:8080/"
        },
        "id": "xzJ_hFT5Hr9E",
        "outputId": "4248b10a-d335-4768-bcaf-328b3f6755f1"
      },
      "execution_count": 21,
      "outputs": [
        {
          "output_type": "stream",
          "name": "stdout",
          "text": [
            "0.9999999999996433\n",
            "-144.40579436844948\n"
          ]
        }
      ]
    },
    {
      "cell_type": "markdown",
      "source": [
        "StandardScaler를 사용하여 서로다른 단위를 가진 데이터 셋을 표준화한다.\n"
      ],
      "metadata": {
        "id": "54WkQVERZaNA"
      }
    },
    {
      "cell_type": "code",
      "source": [
        "from sklearn.preprocessing import StandardScaler\n",
        "\n",
        "ss = StandardScaler()\n",
        "ss.fit(train_poly)\n",
        "train_scaled = ss.transform(train_poly)\n",
        "test_scaled = ss.transform(test_poly)"
      ],
      "metadata": {
        "id": "QjlBsMYXIW0Y"
      },
      "execution_count": 22,
      "outputs": []
    },
    {
      "cell_type": "code",
      "source": [
        "print(train_scaled[:3])"
      ],
      "metadata": {
        "colab": {
          "base_uri": "https://localhost:8080/"
        },
        "id": "wfeQFerBMBQi",
        "outputId": "1233f927-3064-43c8-d1df-5b6d361dc968"
      },
      "execution_count": 24,
      "outputs": [
        {
          "output_type": "stream",
          "name": "stdout",
          "text": [
            "[[-1.01339619 -1.01007487 -1.01952321 -0.9549757  -0.9496784  -0.95745849\n",
            "  -0.93942079 -0.94342509 -0.94100107 -0.88757122 -0.88399964 -0.89100599\n",
            "  -0.87785292 -0.88311456 -0.88430909 -0.8691891  -0.87259422 -0.87147928\n",
            "  -0.86603533 -0.82233944 -0.82171953 -0.8280588  -0.81928269 -0.82512549\n",
            "  -0.8278857  -0.81486775 -0.82006923 -0.82177279 -0.82010716 -0.80835934\n",
            "  -0.81274154 -0.81321125 -0.8098514  -0.80275974 -0.7637909  -0.76597773\n",
            "  -0.77150714 -0.76668667 -0.77246614 -0.77577893 -0.76571689 -0.77162398\n",
            "  -0.77472752 -0.77517751 -0.76290623 -0.76877311 -0.77148634 -0.77113383\n",
            "  -0.767785   -0.75814062 -0.76376113 -0.76586966 -0.76449499 -0.75967179\n",
            "  -0.75143746]\n",
            " [-0.73842893 -0.75254307 -0.74466913 -0.76472563 -0.7717585  -0.77238267\n",
            "  -0.7747325  -0.77298293 -0.76716811 -0.76291014 -0.76770896 -0.77117372\n",
            "  -0.7701438  -0.77242144 -0.77168016 -0.7701077  -0.7710676  -0.76852551\n",
            "  -0.76268353 -0.74414953 -0.74888304 -0.75336339 -0.75182759 -0.75602974\n",
            "  -0.75767358 -0.75276277 -0.75654505 -0.75734709 -0.75530344 -0.75151822\n",
            "  -0.75470284 -0.7544831  -0.75094965 -0.74419754 -0.71646953 -0.72192479\n",
            "  -0.72646818 -0.72588462 -0.73075731 -0.73343457 -0.72812394 -0.73321011\n",
            "  -0.73576127 -0.73592752 -0.72845668 -0.73359433 -0.73584309 -0.73529384\n",
            "  -0.73201564 -0.72674557 -0.73173294 -0.73346797 -0.73198449 -0.72731765\n",
            "  -0.71950111]\n",
            " [-1.11650891 -0.98919391 -0.97371419 -1.02065999 -0.9714645  -0.97031097\n",
            "  -0.92689165 -0.92331614 -0.91379551 -0.92715994 -0.90484569 -0.90818436\n",
            "  -0.88325413 -0.88524768 -0.88320326 -0.86212687 -0.8626609  -0.85882187\n",
            "  -0.85087284 -0.84515835 -0.83603176 -0.84079274 -0.82638952 -0.83079371\n",
            "  -0.83208203 -0.81597363 -0.81987137 -0.82028273 -0.81736635 -0.80456916\n",
            "  -0.80778177 -0.8071358  -0.80274122 -0.79471984 -0.77647055 -0.7747107\n",
            "  -0.77954793 -0.77201712 -0.77715994 -0.77980618 -0.76815525 -0.77347623\n",
            "  -0.77598118 -0.77583274 -0.76292803 -0.76825674 -0.77043638 -0.76956644\n",
            "  -0.76572715 -0.75618509 -0.76131482 -0.76295353 -0.76114089 -0.75592147\n",
            "  -0.74734146]]\n"
          ]
        }
      ]
    },
    {
      "cell_type": "code",
      "source": [],
      "metadata": {
        "id": "aN7UoqDMMEnR"
      },
      "execution_count": null,
      "outputs": []
    }
  ]
}